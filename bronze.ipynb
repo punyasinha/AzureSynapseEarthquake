{
  "cells": [
    {
      "cell_type": "code",
      "source": [
        "# Mounting\n",
        "tiers=[\"bronze\",\"silver\",\"gold\"]\n",
        "adls_paths = {tier: f\"abfss://{tier}@synonlypunya.dfs.core.windows.net/\" for tier in tiers}\n",
        "bronze_adls=adls_paths['bronze']\n",
        "silver_adls=adls_paths['silver']\n",
        "gold_adls=adls_paths['gold']"
      ],
      "outputs": [
        {
          "output_type": "display_data",
          "data": {
            "application/vnd.livy.statement-meta+json": {
              "spark_pool": "synapseonly",
              "statement_id": 2,
              "statement_ids": [
                2
              ],
              "state": "finished",
              "livy_statement_state": "available",
              "spark_jobs": null,
              "session_id": "0",
              "normalized_state": "finished",
              "queued_time": "2025-01-30T00:04:06.3767006Z",
              "session_start_time": "2025-01-30T00:04:06.3792992Z",
              "execution_start_time": "2025-01-30T00:07:17.747463Z",
              "execution_finish_time": "2025-01-30T00:07:17.9341458Z",
              "parent_msg_id": "8f0a2f3c-e6d5-478f-9f03-bf969e510135"
            },
            "text/plain": "StatementMeta(synapseonly, 0, 2, Finished, Available, Finished)"
          },
          "metadata": {}
        }
      ],
      "execution_count": 1,
      "metadata": {}
    },
    {
      "cell_type": "code",
      "source": [
        "print(bronze_adls)"
      ],
      "outputs": [
        {
          "output_type": "display_data",
          "data": {
            "application/vnd.livy.statement-meta+json": {
              "spark_pool": "synapseonly",
              "statement_id": 3,
              "statement_ids": [
                3
              ],
              "state": "finished",
              "livy_statement_state": "available",
              "spark_jobs": null,
              "session_id": "0",
              "normalized_state": "finished",
              "queued_time": "2025-01-30T00:07:31.0341783Z",
              "session_start_time": null,
              "execution_start_time": "2025-01-30T00:07:31.1555806Z",
              "execution_finish_time": "2025-01-30T00:07:31.3327116Z",
              "parent_msg_id": "29b88c6f-0668-4d72-b24a-d4f12e55cb26"
            },
            "text/plain": "StatementMeta(synapseonly, 0, 3, Finished, Available, Finished)"
          },
          "metadata": {}
        },
        {
          "output_type": "stream",
          "name": "stdout",
          "text": [
            "abfss://bronze@synonlypunya.dfs.core.windows.net/\n"
          ]
        }
      ],
      "execution_count": 2,
      "metadata": {
        "jupyter": {
          "source_hidden": false,
          "outputs_hidden": false
        },
        "nteract": {
          "transient": {
            "deleting": false
          }
        }
      }
    },
    {
      "cell_type": "code",
      "source": [
        "files=mssparkutils.fs.ls(bronze_adls)\n",
        "\n",
        "for file in files:\n",
        "\n",
        "    print(file.name,file.isDir,file.isFile,file.path,file.size,file.modifyTime)\n"
      ],
      "outputs": [
        {
          "output_type": "display_data",
          "data": {
            "application/vnd.livy.statement-meta+json": {
              "spark_pool": "synapseonly",
              "statement_id": 6,
              "statement_ids": [
                6
              ],
              "state": "finished",
              "livy_statement_state": "available",
              "spark_jobs": null,
              "session_id": "0",
              "normalized_state": "finished",
              "queued_time": "2025-01-30T00:08:09.0480669Z",
              "session_start_time": null,
              "execution_start_time": "2025-01-30T00:08:09.1558768Z",
              "execution_finish_time": "2025-01-30T00:08:09.3299676Z",
              "parent_msg_id": "ab8d5b25-fad3-4a4d-ae4d-b04fb212e65c"
            },
            "text/plain": "StatementMeta(synapseonly, 0, 6, Finished, Available, Finished)"
          },
          "metadata": {}
        },
        {
          "output_type": "stream",
          "name": "stdout",
          "text": [
            "a\n"
          ]
        }
      ],
      "execution_count": 5,
      "metadata": {
        "jupyter": {
          "source_hidden": false,
          "outputs_hidden": false
        },
        "nteract": {
          "transient": {
            "deleting": false
          }
        }
      }
    },
    {
      "cell_type": "code",
      "source": [
        "import requests\n",
        "import json\n",
        "from datetime import date, timedelta"
      ],
      "outputs": [
        {
          "output_type": "display_data",
          "data": {
            "application/vnd.livy.statement-meta+json": {
              "spark_pool": "synapseonly",
              "statement_id": 7,
              "statement_ids": [
                7
              ],
              "state": "finished",
              "livy_statement_state": "available",
              "spark_jobs": null,
              "session_id": "0",
              "normalized_state": "finished",
              "queued_time": "2025-01-30T00:09:12.1922034Z",
              "session_start_time": null,
              "execution_start_time": "2025-01-30T00:09:12.3076912Z",
              "execution_finish_time": "2025-01-30T00:09:12.491997Z",
              "parent_msg_id": "b5857ce6-272a-4732-b23a-1c8f775b5b46"
            },
            "text/plain": "StatementMeta(synapseonly, 0, 7, Finished, Available, Finished)"
          },
          "metadata": {}
        }
      ],
      "execution_count": 6,
      "metadata": {
        "jupyter": {
          "source_hidden": false,
          "outputs_hidden": false
        },
        "nteract": {
          "transient": {
            "deleting": false
          }
        }
      }
    },
    {
      "cell_type": "code",
      "source": [
        "#Remove this before running data factory pipeline\n",
        "start_date=date.today()-timedelta(1)\n",
        "end_date=date.today()"
      ],
      "outputs": [
        {
          "output_type": "display_data",
          "data": {
            "application/vnd.livy.statement-meta+json": {
              "spark_pool": "synapseonly",
              "statement_id": 9,
              "statement_ids": [
                9
              ],
              "state": "finished",
              "livy_statement_state": "available",
              "spark_jobs": null,
              "session_id": "0",
              "normalized_state": "finished",
              "queued_time": "2025-01-30T00:09:31.6507092Z",
              "session_start_time": null,
              "execution_start_time": "2025-01-30T00:09:31.8243333Z",
              "execution_finish_time": "2025-01-30T00:09:32.0560192Z",
              "parent_msg_id": "abfb779e-7591-4497-82f3-29e5c5600e70"
            },
            "text/plain": "StatementMeta(synapseonly, 0, 9, Finished, Available, Finished)"
          },
          "metadata": {}
        }
      ],
      "execution_count": 8,
      "metadata": {
        "jupyter": {
          "source_hidden": false,
          "outputs_hidden": false
        },
        "nteract": {
          "transient": {
            "deleting": false
          }
        }
      }
    },
    {
      "cell_type": "code",
      "source": [
        "start_date, end_date"
      ],
      "outputs": [
        {
          "output_type": "display_data",
          "data": {
            "application/vnd.livy.statement-meta+json": {
              "spark_pool": "synapseonly",
              "statement_id": 10,
              "statement_ids": [
                10
              ],
              "state": "finished",
              "livy_statement_state": "available",
              "spark_jobs": null,
              "session_id": "0",
              "normalized_state": "finished",
              "queued_time": "2025-01-30T00:09:33.0872276Z",
              "session_start_time": null,
              "execution_start_time": "2025-01-30T00:09:33.1955247Z",
              "execution_finish_time": "2025-01-30T00:09:33.3732068Z",
              "parent_msg_id": "b7eef53e-91ba-4975-8184-bc687964b2aa"
            },
            "text/plain": "StatementMeta(synapseonly, 0, 10, Finished, Available, Finished)"
          },
          "metadata": {}
        },
        {
          "output_type": "execute_result",
          "execution_count": 21,
          "data": {
            "text/plain": "(datetime.date(2025, 1, 29), datetime.date(2025, 1, 30))"
          },
          "metadata": {}
        }
      ],
      "execution_count": 9,
      "metadata": {
        "jupyter": {
          "source_hidden": false,
          "outputs_hidden": false
        },
        "nteract": {
          "transient": {
            "deleting": false
          }
        }
      }
    },
    {
      "cell_type": "code",
      "source": [],
      "outputs": [
        {
          "output_type": "display_data",
          "data": {
            "application/vnd.livy.statement-meta+json": {
              "spark_pool": "synapseonly",
              "statement_id": 15,
              "statement_ids": [
                15
              ],
              "state": "finished",
              "livy_statement_state": "available",
              "spark_jobs": null,
              "session_id": "0",
              "normalized_state": "finished",
              "queued_time": "2025-01-30T00:19:34.4501626Z",
              "session_start_time": null,
              "execution_start_time": "2025-01-30T00:19:34.5654591Z",
              "execution_finish_time": "2025-01-30T00:19:34.787284Z",
              "parent_msg_id": "60974708-24e5-4dcb-9c73-fda1543fbdff"
            },
            "text/plain": "StatementMeta(synapseonly, 0, 15, Finished, Available, Finished)"
          },
          "metadata": {}
        },
        {
          "output_type": "error",
          "ename": "ModuleNotFoundError",
          "evalue": "No module named 'pyspark.dbutils'",
          "traceback": [
            "\u001b[0;31m---------------------------------------------------------------------------\u001b[0m",
            "\u001b[0;31mModuleNotFoundError\u001b[0m                       Traceback (most recent call last)",
            "Cell \u001b[0;32mIn[31], line 1\u001b[0m\n\u001b[0;32m----> 1\u001b[0m \u001b[38;5;28;01mfrom\u001b[39;00m \u001b[38;5;21;01mpyspark\u001b[39;00m\u001b[38;5;21;01m.\u001b[39;00m\u001b[38;5;21;01mdbutils\u001b[39;00m \u001b[38;5;28;01mimport\u001b[39;00m DBUtils\n\u001b[1;32m      2\u001b[0m \u001b[38;5;28;01mfrom\u001b[39;00m \u001b[38;5;21;01mpyspark\u001b[39;00m\u001b[38;5;21;01m.\u001b[39;00m\u001b[38;5;21;01msql\u001b[39;00m \u001b[38;5;28;01mimport\u001b[39;00m SparkSession\n\u001b[1;32m      4\u001b[0m spark \u001b[38;5;241m=\u001b[39m SparkSession\u001b[38;5;241m.\u001b[39mbuilder\u001b[38;5;241m.\u001b[39mgetOrCreate()\n",
            "\u001b[0;31mModuleNotFoundError\u001b[0m: No module named 'pyspark.dbutils'"
          ]
        }
      ],
      "execution_count": 14,
      "metadata": {
        "jupyter": {
          "source_hidden": false,
          "outputs_hidden": false
        },
        "nteract": {
          "transient": {
            "deleting": false
          }
        }
      }
    },
    {
      "cell_type": "code",
      "source": [
        "# Construct the API URL with start and end dates provided by Data Factory, formatted for geojson output.\n",
        "url = f\"https://earthquake.usgs.gov/fdsnws/event/1/query?format=geojson&starttime={start_date}&endtime={end_date}\"\n",
        "\n",
        "try:\n",
        "    # Make the GET request to fetch data\n",
        "    response = requests.get(url)\n",
        "\n",
        "    # Check if the request was successful\n",
        "    response.raise_for_status()  # Raise HTTPError for bad responses (4xx or 5xx)\n",
        "    data = response.json().get('features', [])\n",
        "\n",
        "    if not data:\n",
        "        print(\"No data returned for the specified date range.\")\n",
        "    else:\n",
        "        # Specify the ADLS path\n",
        "        file_path = f\"{bronze_adls}/{start_date}_earthquake_data.json\"\n",
        "        \n",
        "        # Save the JSON data\n",
        "        json_data = json.dumps(data, indent=4)\n",
        "\n",
        "        #creating an RDD with json string and parallelize\n",
        "        rdd= spark.sparkContext.parallelize([json_data])\n",
        "        \n",
        "        # creating DF from RDD\n",
        "        df=spark.read.json(rdd)\n",
        "        df.write.mode(\"overwrite\").json(file_path)\n",
        "\n",
        "except requests.exceptions.RequestException as e:\n",
        "    print(f\"Error fetching data from API: {e}\")"
      ],
      "outputs": [
        {
          "output_type": "display_data",
          "data": {
            "application/vnd.livy.statement-meta+json": {
              "spark_pool": "synapseonly",
              "statement_id": 17,
              "statement_ids": [
                17
              ],
              "state": "finished",
              "livy_statement_state": "available",
              "spark_jobs": null,
              "session_id": "0",
              "normalized_state": "finished",
              "queued_time": "2025-01-30T00:28:06.2259341Z",
              "session_start_time": null,
              "execution_start_time": "2025-01-30T00:28:06.3450107Z",
              "execution_finish_time": "2025-01-30T00:28:29.7611257Z",
              "parent_msg_id": "88ca1096-80fb-4623-8e8a-c1be6230b339"
            },
            "text/plain": "StatementMeta(synapseonly, 0, 17, Finished, Available, Finished)"
          },
          "metadata": {}
        }
      ],
      "execution_count": 16,
      "metadata": {
        "jupyter": {
          "source_hidden": false,
          "outputs_hidden": false
        },
        "nteract": {
          "transient": {
            "deleting": false
          }
        }
      }
    },
    {
      "cell_type": "code",
      "source": [
        "data[0]"
      ],
      "outputs": [
        {
          "output_type": "display_data",
          "data": {
            "application/vnd.livy.statement-meta+json": {
              "spark_pool": "synapseonly",
              "statement_id": 18,
              "statement_ids": [
                18
              ],
              "state": "finished",
              "livy_statement_state": "available",
              "spark_jobs": null,
              "session_id": "0",
              "normalized_state": "finished",
              "queued_time": "2025-01-30T00:29:01.7427387Z",
              "session_start_time": null,
              "execution_start_time": "2025-01-30T00:29:01.8619948Z",
              "execution_finish_time": "2025-01-30T00:29:02.051703Z",
              "parent_msg_id": "4883f524-c56f-488b-b4e4-868ca145827d"
            },
            "text/plain": "StatementMeta(synapseonly, 0, 18, Finished, Available, Finished)"
          },
          "metadata": {}
        },
        {
          "output_type": "execute_result",
          "execution_count": 37,
          "data": {
            "text/plain": "{'type': 'Feature',\n 'properties': {'mag': 0.68,\n  'place': '14 km N of Borrego Springs, CA',\n  'time': 1738195018480,\n  'updated': 1738195304790,\n  'tz': None,\n  'url': 'https://earthquake.usgs.gov/earthquakes/eventpage/ci40174562',\n  'detail': 'https://earthquake.usgs.gov/fdsnws/event/1/query?eventid=ci40174562&format=geojson',\n  'felt': None,\n  'cdi': None,\n  'mmi': None,\n  'alert': None,\n  'status': 'automatic',\n  'tsunami': 0,\n  'sig': 7,\n  'net': 'ci',\n  'code': '40174562',\n  'ids': ',ci40174562,',\n  'sources': ',ci,',\n  'types': ',nearby-cities,origin,phase-data,scitech-link,',\n  'nst': 33,\n  'dmin': 0.07217,\n  'rms': 0.2,\n  'gap': 65,\n  'magType': 'ml',\n  'type': 'earthquake',\n  'title': 'M 0.7 - 14 km N of Borrego Springs, CA'},\n 'geometry': {'type': 'Point',\n  'coordinates': [-116.3943333, 33.3758333, 9.55]},\n 'id': 'ci40174562'}"
          },
          "metadata": {}
        }
      ],
      "execution_count": 17,
      "metadata": {
        "jupyter": {
          "source_hidden": false,
          "outputs_hidden": false
        },
        "nteract": {
          "transient": {
            "deleting": false
          }
        }
      }
    },
    {
      "cell_type": "code",
      "source": [
        "import json\n",
        "\n",
        "output_data={\n",
        "    \"start_date\": start_date.isoformat(),\n",
        "    \"bronze_adls\": bronze_adls,\n",
        "    \"silver_adls\": silver_adls,\n",
        "    \"gold_adls\": gold_adls\n",
        "}\n",
        "\n",
        "bronze_output= json.dumps(output_data)\n",
        "mssparkutils.notebook.exit(bronze_output)"
      ],
      "outputs": [
        {
          "output_type": "display_data",
          "data": {
            "application/vnd.livy.statement-meta+json": {
              "spark_pool": "synapseonly",
              "statement_id": 19,
              "statement_ids": [
                19
              ],
              "state": "finished",
              "livy_statement_state": "available",
              "spark_jobs": null,
              "session_id": "0",
              "normalized_state": "finished",
              "queued_time": "2025-01-30T00:36:28.1274234Z",
              "session_start_time": null,
              "execution_start_time": "2025-01-30T00:36:28.2548585Z",
              "execution_finish_time": "2025-01-30T00:36:28.4454994Z",
              "parent_msg_id": "3e4c1c22-801d-4aaf-be6f-132a7f9a07e7"
            },
            "text/plain": "StatementMeta(synapseonly, 0, 19, Finished, Available, Finished)"
          },
          "metadata": {}
        },
        {
          "output_type": "stream",
          "name": "stdout",
          "text": [
            "ExitValue: {\"start_date\": \"2025-01-29\", \"bronze_adls\": \"abfss://bronze@synonlypunya.dfs.core.windows.net/\", \"silver_adls\": \"abfss://silver@synonlypunya.dfs.core.windows.net/\", \"gold_adls\": \"abfss://gold@synonlypunya.dfs.core.windows.net/\"}"
          ]
        }
      ],
      "execution_count": 18,
      "metadata": {
        "jupyter": {
          "source_hidden": false,
          "outputs_hidden": false
        },
        "nteract": {
          "transient": {
            "deleting": false
          }
        }
      }
    },
    {
      "cell_type": "code",
      "source": [],
      "outputs": [],
      "execution_count": null,
      "metadata": {
        "jupyter": {
          "source_hidden": false,
          "outputs_hidden": false
        },
        "nteract": {
          "transient": {
            "deleting": false
          }
        }
      }
    }
  ],
  "metadata": {
    "language_info": {
      "name": "python"
    },
    "kernelspec": {
      "name": "synapse_pyspark",
      "language": "Python",
      "display_name": "Synapse PySpark"
    },
    "kernel_info": {
      "name": "synapse_pyspark"
    },
    "save_output": true,
    "synapse_widget": {
      "version": "0.1",
      "state": {}
    }
  },
  "nbformat": 4,
  "nbformat_minor": 2
}