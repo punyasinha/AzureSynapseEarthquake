{
  "cells": [
    {
      "cell_type": "code",
      "source": [
        "# from datetime import date, timedelta\n",
        "\n",
        "# # Remove this before running Data Factory Pipeline\n",
        "# start_date = date.today() - timedelta(1)\n",
        "\n",
        "# silver_adls = \"abfss://silver@synonlypunya.dfs.core.windows.net/\"\n",
        "# gold_adls = \"abfss://gold@synonlypunya.dfs.core.windows.net/\"\n",
        "\n",
        "# silver_data = f\"{silver_adls}earthquake_events_silver/\""
      ],
      "outputs": [
        {
          "output_type": "display_data",
          "data": {
            "application/vnd.livy.statement-meta+json": {
              "spark_pool": "synapseonly2",
              "statement_id": 2,
              "statement_ids": [
                2
              ],
              "state": "finished",
              "livy_statement_state": "available",
              "spark_jobs": null,
              "session_id": "2",
              "normalized_state": "finished",
              "queued_time": "2025-01-30T02:40:41.939693Z",
              "session_start_time": "2025-01-30T02:40:41.9418545Z",
              "execution_start_time": "2025-01-30T02:44:11.5374954Z",
              "execution_finish_time": "2025-01-30T02:44:11.7149212Z",
              "parent_msg_id": "7dacbcb1-89c1-422b-8f87-82753d69a7ef"
            },
            "text/plain": "StatementMeta(synapseonly2, 2, 2, Finished, Available, Finished)"
          },
          "metadata": {}
        }
      ],
      "execution_count": 3,
      "metadata": {}
    },
    {
      "cell_type": "code",
      "source": [
        "bronze_output=\"\"\n",
        "silver_output=\"\""
      ],
      "outputs": [],
      "execution_count": null,
      "metadata": {
        "jupyter": {
          "source_hidden": false,
          "outputs_hidden": false
        },
        "nteract": {
          "transient": {
            "deleting": false
          }
        }
      }
    },
    {
      "cell_type": "code",
      "source": [
        "import json\n",
        "bronze_data=json.loads(bronze_output)\n",
        "start_date=bronze_data.get(\"start_date\")\n",
        "silver_adls=bronze_data.get(\"silver_adls\")\n",
        "gold_adls=bronze_data.get(\"gold_adls\")\n",
        "silver_data=f\"{silver_adls}earthquake_events_silver/\""
      ],
      "outputs": [],
      "execution_count": null,
      "metadata": {
        "jupyter": {
          "source_hidden": false,
          "outputs_hidden": false
        },
        "nteract": {
          "transient": {
            "deleting": false
          }
        }
      }
    },
    {
      "cell_type": "code",
      "source": [
        "from pyspark.sql.functions import col, when, udf\n",
        "from pyspark.sql.types import StringType\n",
        "import reverse_geocoder as rg\n",
        "from datetime import date, timedelta"
      ],
      "outputs": [
        {
          "output_type": "display_data",
          "data": {
            "application/vnd.livy.statement-meta+json": {
              "spark_pool": "synapseonly2",
              "statement_id": 6,
              "statement_ids": [
                6
              ],
              "state": "finished",
              "livy_statement_state": "available",
              "spark_jobs": null,
              "session_id": "2",
              "normalized_state": "finished",
              "queued_time": "2025-01-30T02:45:14.1613233Z",
              "session_start_time": null,
              "execution_start_time": "2025-01-30T02:45:14.2889788Z",
              "execution_finish_time": "2025-01-30T02:45:14.4671841Z",
              "parent_msg_id": "711dbf92-93df-4579-abbb-16e68c525eab"
            },
            "text/plain": "StatementMeta(synapseonly2, 2, 6, Finished, Available, Finished)"
          },
          "metadata": {}
        }
      ],
      "execution_count": 7,
      "metadata": {
        "jupyter": {
          "source_hidden": false,
          "outputs_hidden": false
        },
        "nteract": {
          "transient": {
            "deleting": false
          }
        }
      }
    },
    {
      "cell_type": "code",
      "source": [
        "df=spark.read.parquet(silver_data).filter(col('time')>start_date)"
      ],
      "outputs": [
        {
          "output_type": "display_data",
          "data": {
            "application/vnd.livy.statement-meta+json": {
              "spark_pool": "synapseonly2",
              "statement_id": 8,
              "statement_ids": [
                8
              ],
              "state": "finished",
              "livy_statement_state": "available",
              "spark_jobs": null,
              "session_id": "2",
              "normalized_state": "finished",
              "queued_time": "2025-01-30T02:46:14.499241Z",
              "session_start_time": null,
              "execution_start_time": "2025-01-30T02:46:14.6217465Z",
              "execution_finish_time": "2025-01-30T02:46:23.5779128Z",
              "parent_msg_id": "09192db3-2912-4ecb-9058-3979040714db"
            },
            "text/plain": "StatementMeta(synapseonly2, 2, 8, Finished, Available, Finished)"
          },
          "metadata": {}
        }
      ],
      "execution_count": 9,
      "metadata": {
        "jupyter": {
          "source_hidden": false,
          "outputs_hidden": false
        },
        "nteract": {
          "transient": {
            "deleting": false
          }
        }
      }
    },
    {
      "cell_type": "code",
      "source": [
        "def get_country_code(lat, lon):\n",
        "    \"\"\"\n",
        "    Retrieve the country code for a given latitude and longitude.\n",
        "\n",
        "    Parameters:\n",
        "    lat (float or str): Latitude of the location.\n",
        "    lon (float or str): Longitude of the location.\n",
        "\n",
        "    Returns:\n",
        "    str: Country code of the location, retrieved using the reverse geocoding API.\n",
        "\n",
        "    Example:\n",
        "    >>> get_country_details(48.8588443, 2.2943506)\n",
        "    'FR'\n",
        "    \"\"\"\n",
        "    try:\n",
        "        coordinates = (float(lat), float(lon))\n",
        "        result = rg.search(coordinates)[0].get('cc')\n",
        "        print(f\"Processed coordinates: {coordinates} -> {result}\")\n",
        "        return result\n",
        "    except Exception as e:\n",
        "        print(f\"Error processing coordinates: {lat}, {lon} -> {str(e)}\")\n",
        "        return None"
      ],
      "outputs": [
        {
          "output_type": "display_data",
          "data": {
            "application/vnd.livy.statement-meta+json": {
              "spark_pool": "synapseonly2",
              "statement_id": 9,
              "statement_ids": [
                9
              ],
              "state": "finished",
              "livy_statement_state": "available",
              "spark_jobs": null,
              "session_id": "2",
              "normalized_state": "finished",
              "queued_time": "2025-01-30T02:46:18.351448Z",
              "session_start_time": null,
              "execution_start_time": "2025-01-30T02:46:23.7141417Z",
              "execution_finish_time": "2025-01-30T02:46:23.8918043Z",
              "parent_msg_id": "341dd99b-b583-4329-a5d5-2afb98e29ddb"
            },
            "text/plain": "StatementMeta(synapseonly2, 2, 9, Finished, Available, Finished)"
          },
          "metadata": {}
        }
      ],
      "execution_count": 10,
      "metadata": {
        "jupyter": {
          "source_hidden": false,
          "outputs_hidden": false
        },
        "nteract": {
          "transient": {
            "deleting": false
          }
        }
      }
    },
    {
      "cell_type": "code",
      "source": [
        "# registering the udfs so they can be used on spark dataframes\n",
        "get_country_code_udf = udf(get_country_code, StringType())"
      ],
      "outputs": [
        {
          "output_type": "display_data",
          "data": {
            "application/vnd.livy.statement-meta+json": {
              "spark_pool": "synapseonly2",
              "statement_id": 10,
              "statement_ids": [
                10
              ],
              "state": "finished",
              "livy_statement_state": "available",
              "spark_jobs": null,
              "session_id": "2",
              "normalized_state": "finished",
              "queued_time": "2025-01-30T02:46:19.3855479Z",
              "session_start_time": null,
              "execution_start_time": "2025-01-30T02:46:24.0572847Z",
              "execution_finish_time": "2025-01-30T02:46:24.2355315Z",
              "parent_msg_id": "69ed74c2-fd32-404a-b743-ae71482cb5ee"
            },
            "text/plain": "StatementMeta(synapseonly2, 2, 10, Finished, Available, Finished)"
          },
          "metadata": {}
        }
      ],
      "execution_count": 11,
      "metadata": {
        "jupyter": {
          "source_hidden": false,
          "outputs_hidden": false
        },
        "nteract": {
          "transient": {
            "deleting": false
          }
        }
      }
    },
    {
      "cell_type": "code",
      "source": [
        "# adding country_code and city attributes\n",
        "df_with_location = \\\n",
        "                df.\\\n",
        "                    withColumn(\"country_code\", get_country_code_udf(col(\"latitude\"), col(\"longitude\")))"
      ],
      "outputs": [
        {
          "output_type": "display_data",
          "data": {
            "application/vnd.livy.statement-meta+json": {
              "spark_pool": "synapseonly2",
              "statement_id": 11,
              "statement_ids": [
                11
              ],
              "state": "finished",
              "livy_statement_state": "available",
              "spark_jobs": null,
              "session_id": "2",
              "normalized_state": "finished",
              "queued_time": "2025-01-30T02:46:20.6807128Z",
              "session_start_time": null,
              "execution_start_time": "2025-01-30T02:46:24.3645607Z",
              "execution_finish_time": "2025-01-30T02:46:24.5497494Z",
              "parent_msg_id": "2d38017b-7ccf-409e-99fd-6c56224cc688"
            },
            "text/plain": "StatementMeta(synapseonly2, 2, 11, Finished, Available, Finished)"
          },
          "metadata": {}
        }
      ],
      "execution_count": 12,
      "metadata": {
        "jupyter": {
          "source_hidden": false,
          "outputs_hidden": false
        },
        "nteract": {
          "transient": {
            "deleting": false
          }
        }
      }
    },
    {
      "cell_type": "code",
      "source": [
        "# adding significance classification\n",
        "df_with_location_sig_class = \\\n",
        "                            df.\\\n",
        "                                withColumn('sig_class', \n",
        "                                            when(col(\"sig\") < 100, \"Low\").\\\n",
        "                                            when((col(\"sig\") >= 100) & (col(\"sig\") < 500), \"Moderate\").\\\n",
        "                                            otherwise(\"High\")\n",
        "                                            )"
      ],
      "outputs": [
        {
          "output_type": "display_data",
          "data": {
            "application/vnd.livy.statement-meta+json": {
              "spark_pool": "synapseonly2",
              "statement_id": 12,
              "statement_ids": [
                12
              ],
              "state": "finished",
              "livy_statement_state": "available",
              "spark_jobs": null,
              "session_id": "2",
              "normalized_state": "finished",
              "queued_time": "2025-01-30T02:46:21.565312Z",
              "session_start_time": null,
              "execution_start_time": "2025-01-30T02:46:24.6982848Z",
              "execution_finish_time": "2025-01-30T02:46:24.8891831Z",
              "parent_msg_id": "67815a7d-cc49-4dcc-9496-a90e5233e6b2"
            },
            "text/plain": "StatementMeta(synapseonly2, 2, 12, Finished, Available, Finished)"
          },
          "metadata": {}
        }
      ],
      "execution_count": 13,
      "metadata": {
        "jupyter": {
          "source_hidden": false,
          "outputs_hidden": false
        },
        "nteract": {
          "transient": {
            "deleting": false
          }
        }
      }
    },
    {
      "cell_type": "code",
      "source": [
        "# Save the transformed DataFrame to the Silver container\n",
        "gold_output_path = f\"{gold_adls}earthquake_events_gold/\""
      ],
      "outputs": [
        {
          "output_type": "display_data",
          "data": {
            "application/vnd.livy.statement-meta+json": {
              "spark_pool": "synapseonly2",
              "statement_id": 13,
              "statement_ids": [
                13
              ],
              "state": "finished",
              "livy_statement_state": "available",
              "spark_jobs": null,
              "session_id": "2",
              "normalized_state": "finished",
              "queued_time": "2025-01-30T02:46:22.9277774Z",
              "session_start_time": null,
              "execution_start_time": "2025-01-30T02:46:25.0019391Z",
              "execution_finish_time": "2025-01-30T02:46:25.2040684Z",
              "parent_msg_id": "d016d020-8474-4f15-8668-57aaa73cabc1"
            },
            "text/plain": "StatementMeta(synapseonly2, 2, 13, Finished, Available, Finished)"
          },
          "metadata": {}
        }
      ],
      "execution_count": 14,
      "metadata": {
        "jupyter": {
          "source_hidden": false,
          "outputs_hidden": false
        },
        "nteract": {
          "transient": {
            "deleting": false
          }
        }
      }
    },
    {
      "cell_type": "code",
      "source": [
        "# Append DataFrame to Silver container in Parquet format\n",
        "df_with_location_sig_class.write.mode('append').parquet(gold_output_path)"
      ],
      "outputs": [
        {
          "output_type": "display_data",
          "data": {
            "application/vnd.livy.statement-meta+json": {
              "spark_pool": "synapseonly2",
              "statement_id": 14,
              "statement_ids": [
                14
              ],
              "state": "finished",
              "livy_statement_state": "available",
              "spark_jobs": null,
              "session_id": "2",
              "normalized_state": "finished",
              "queued_time": "2025-01-30T02:46:24.4184115Z",
              "session_start_time": null,
              "execution_start_time": "2025-01-30T02:46:25.3168463Z",
              "execution_finish_time": "2025-01-30T02:46:36.2274708Z",
              "parent_msg_id": "24d60dce-e7a3-4d6f-8d82-8212e425241c"
            },
            "text/plain": "StatementMeta(synapseonly2, 2, 14, Finished, Available, Finished)"
          },
          "metadata": {}
        }
      ],
      "execution_count": 15,
      "metadata": {
        "jupyter": {
          "source_hidden": false,
          "outputs_hidden": false
        },
        "nteract": {
          "transient": {
            "deleting": false
          }
        }
      }
    },
    {
      "cell_type": "code",
      "source": [],
      "outputs": [],
      "execution_count": null,
      "metadata": {
        "jupyter": {
          "source_hidden": false,
          "outputs_hidden": false
        },
        "nteract": {
          "transient": {
            "deleting": false
          }
        }
      }
    }
  ],
  "metadata": {
    "language_info": {
      "name": "python"
    },
    "kernelspec": {
      "name": "synapse_pyspark",
      "language": "Python",
      "display_name": "Synapse PySpark"
    },
    "kernel_info": {
      "name": "synapse_pyspark"
    },
    "save_output": true,
    "synapse_widget": {
      "version": "0.1",
      "state": {}
    }
  },
  "nbformat": 4,
  "nbformat_minor": 2
}