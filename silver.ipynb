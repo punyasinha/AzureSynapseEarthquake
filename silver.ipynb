{
  "cells": [
    {
      "cell_type": "code",
      "source": [
        "import json\n"
      ],
      "outputs": [
        {
          "output_type": "display_data",
          "data": {
            "application/vnd.livy.statement-meta+json": {
              "spark_pool": null,
              "statement_id": -1,
              "statement_ids": [],
              "state": "session_error",
              "livy_statement_state": null,
              "spark_jobs": null,
              "session_id": null,
              "normalized_state": "session_error",
              "queued_time": "2025-01-30T02:32:45.6166198Z",
              "session_start_time": "2025-01-30T02:32:45.6197695Z",
              "execution_start_time": null,
              "execution_finish_time": null,
              "parent_msg_id": "ac292be1-c6ed-47aa-8811-4804f329bf84"
            },
            "text/plain": "StatementMeta(, , -1, SessionError, , SessionError)"
          },
          "metadata": {}
        },
        {
          "output_type": "error",
          "ename": "AVAILABLE_WORKSPACE_CAPACITY_EXCEEDED",
          "evalue": "Livy session has failed. Session state: Error. Error code: AVAILABLE_WORKSPACE_CAPACITY_EXCEEDED. Your job requested 12 vcores. However, the workspace only has 4 vcores available out of quota of 12 vcores for node size family [MemoryOptimized]. Try ending the running job(s), reducing the numbers of vcores requested or increasing your vcore quota. https://learn.microsoft.com/en-us/azure/synapse-analytics/spark/apache-spark-concepts#workspace-level Source: User.",
          "traceback": [
            "AVAILABLE_WORKSPACE_CAPACITY_EXCEEDED: Livy session has failed. Session state: Error. Error code: AVAILABLE_WORKSPACE_CAPACITY_EXCEEDED. Your job requested 12 vcores. However, the workspace only has 4 vcores available out of quota of 12 vcores for node size family [MemoryOptimized]. Try ending the running job(s), reducing the numbers of vcores requested or increasing your vcore quota. https://learn.microsoft.com/en-us/azure/synapse-analytics/spark/apache-spark-concepts#workspace-level Source: User."
          ]
        }
      ],
      "execution_count": null,
      "metadata": {}
    },
    {
      "cell_type": "code",
      "source": [
        "output_data= json.loads(bronze_output)\n",
        "\n",
        "start_date=output_data.get(\"start_date\")\n",
        "silver_adls=output_data.get(\"silver_adls\")\n",
        "bronze_adls=output_data.get(\"bronze_adls\")"
      ],
      "outputs": [],
      "execution_count": null,
      "metadata": {
        "jupyter": {
          "source_hidden": false,
          "outputs_hidden": false
        },
        "nteract": {
          "transient": {
            "deleting": false
          }
        }
      }
    },
    {
      "cell_type": "code",
      "source": [
        "# from datetime import date, timedelta\n",
        "# start_date=date.today()-timedelta(1)\n",
        "# bronze_adls=\"abfss://bronze@synonlypunya.dfs.core.windows.net/\"\n",
        "# silver_adls=\"abfss://silver@synonlypunya.dfs.core.windows.net/\""
      ],
      "outputs": [
        {
          "output_type": "display_data",
          "data": {
            "application/vnd.livy.statement-meta+json": {
              "spark_pool": "synapseonly",
              "statement_id": 2,
              "statement_ids": [
                2
              ],
              "state": "finished",
              "livy_statement_state": "available",
              "spark_jobs": null,
              "session_id": "1",
              "normalized_state": "finished",
              "queued_time": "2025-01-30T01:10:57.2839409Z",
              "session_start_time": "2025-01-30T01:10:57.2864172Z",
              "execution_start_time": "2025-01-30T01:14:06.8272346Z",
              "execution_finish_time": "2025-01-30T01:14:06.827897Z",
              "parent_msg_id": "b426155e-7cd8-4eec-96b2-06566f6457cb"
            },
            "text/plain": "StatementMeta(synapseonly, 1, 2, Finished, Available, Finished)"
          },
          "metadata": {}
        }
      ],
      "execution_count": 19,
      "metadata": {
        "jupyter": {
          "source_hidden": false,
          "outputs_hidden": false
        },
        "nteract": {
          "transient": {
            "deleting": false
          }
        }
      }
    },
    {
      "cell_type": "code",
      "source": [
        "from pyspark.sql.functions import col,isnull,when\n",
        "from pyspark.sql.types import TimestampType\n",
        "df=spark.read.option(\"multiline\",\"true\").json(f\"{bronze_adls}{start_date}_earthquake_data.json\")"
      ],
      "outputs": [
        {
          "output_type": "display_data",
          "data": {
            "application/vnd.livy.statement-meta+json": {
              "spark_pool": "synapseonly",
              "statement_id": 6,
              "statement_ids": [
                6
              ],
              "state": "finished",
              "livy_statement_state": "available",
              "spark_jobs": null,
              "session_id": "1",
              "normalized_state": "finished",
              "queued_time": "2025-01-30T01:16:54.9084236Z",
              "session_start_time": null,
              "execution_start_time": "2025-01-30T01:16:55.0361545Z",
              "execution_finish_time": "2025-01-30T01:17:03.9297641Z",
              "parent_msg_id": "0063b703-7b85-40b0-b7bd-167c653d4544"
            },
            "text/plain": "StatementMeta(synapseonly, 1, 6, Finished, Available, Finished)"
          },
          "metadata": {}
        }
      ],
      "execution_count": 23,
      "metadata": {
        "jupyter": {
          "source_hidden": false,
          "outputs_hidden": false
        },
        "nteract": {
          "transient": {
            "deleting": false
          }
        }
      }
    },
    {
      "cell_type": "code",
      "source": [
        "# Reshape earthquake data\n",
        "df = (\n",
        "    df\n",
        "    .select(\n",
        "        'id',\n",
        "        col('geometry.coordinates').getItem(0).alias('longitude'),\n",
        "        col('geometry.coordinates').getItem(1).alias('latitude'),\n",
        "        col('geometry.coordinates').getItem(2).alias('elevation'),\n",
        "        col('properties.title').alias('title'),\n",
        "        col('properties.place').alias('place_description'),\n",
        "        col('properties.sig').alias('sig'),\n",
        "        col('properties.mag').alias('mag'),\n",
        "        col('properties.magType').alias('magType'),\n",
        "        col('properties.time').alias('time'),\n",
        "        col('properties.updated').alias('updated')\n",
        "    )\n",
        ")"
      ],
      "outputs": [
        {
          "output_type": "display_data",
          "data": {
            "application/vnd.livy.statement-meta+json": {
              "spark_pool": "synapseonly",
              "statement_id": 7,
              "statement_ids": [
                7
              ],
              "state": "finished",
              "livy_statement_state": "available",
              "spark_jobs": null,
              "session_id": "1",
              "normalized_state": "finished",
              "queued_time": "2025-01-30T01:16:56.9133659Z",
              "session_start_time": null,
              "execution_start_time": "2025-01-30T01:17:04.0573335Z",
              "execution_finish_time": "2025-01-30T01:17:04.2403526Z",
              "parent_msg_id": "7a5509d5-a79d-43ef-8274-a5081ef952e1"
            },
            "text/plain": "StatementMeta(synapseonly, 1, 7, Finished, Available, Finished)"
          },
          "metadata": {}
        }
      ],
      "execution_count": 24,
      "metadata": {
        "jupyter": {
          "source_hidden": false,
          "outputs_hidden": false
        },
        "nteract": {
          "transient": {
            "deleting": false
          }
        }
      }
    },
    {
      "cell_type": "code",
      "source": [
        "# Validate data: Check for missing or null values\n",
        "df = (\n",
        "    df\n",
        "    .withColumn('longitude', when(isnull(col('longitude')), 0).otherwise(col('longitude')))\n",
        "    .withColumn('latitude', when(isnull(col('latitude')), 0).otherwise(col('latitude')))\n",
        "    .withColumn('time', when(isnull(col('time')), 0).otherwise(col('time')))\n",
        ")"
      ],
      "outputs": [
        {
          "output_type": "display_data",
          "data": {
            "application/vnd.livy.statement-meta+json": {
              "spark_pool": "synapseonly",
              "statement_id": 8,
              "statement_ids": [
                8
              ],
              "state": "finished",
              "livy_statement_state": "available",
              "spark_jobs": null,
              "session_id": "1",
              "normalized_state": "finished",
              "queued_time": "2025-01-30T01:16:59.4737397Z",
              "session_start_time": null,
              "execution_start_time": "2025-01-30T01:17:04.3664581Z",
              "execution_finish_time": "2025-01-30T01:17:04.562443Z",
              "parent_msg_id": "62094b07-ce8d-49b5-b42c-11ad0409a0db"
            },
            "text/plain": "StatementMeta(synapseonly, 1, 8, Finished, Available, Finished)"
          },
          "metadata": {}
        }
      ],
      "execution_count": 25,
      "metadata": {
        "jupyter": {
          "source_hidden": false,
          "outputs_hidden": false
        },
        "nteract": {
          "transient": {
            "deleting": false
          }
        }
      }
    },
    {
      "cell_type": "code",
      "source": [
        "\n",
        "df.show(1,0)"
      ],
      "outputs": [
        {
          "output_type": "display_data",
          "data": {
            "application/vnd.livy.statement-meta+json": {
              "spark_pool": "synapseonly",
              "statement_id": 11,
              "statement_ids": [
                11
              ],
              "state": "finished",
              "livy_statement_state": "available",
              "spark_jobs": null,
              "session_id": "1",
              "normalized_state": "finished",
              "queued_time": "2025-01-30T01:17:43.8516281Z",
              "session_start_time": null,
              "execution_start_time": "2025-01-30T01:17:43.974431Z",
              "execution_finish_time": "2025-01-30T01:17:45.9241683Z",
              "parent_msg_id": "35819a2e-38eb-47c2-93a0-74d4aa0fb513"
            },
            "text/plain": "StatementMeta(synapseonly, 1, 11, Finished, Available, Finished)"
          },
          "metadata": {}
        },
        {
          "output_type": "stream",
          "name": "stdout",
          "text": [
            "+----------+------------+----------+---------+--------------------------------------+------------------------------+---+----+-------+-------------+-------------+\n|id        |longitude   |latitude  |elevation|title                                 |place_description             |sig|mag |magType|time         |updated      |\n+----------+------------+----------+---------+--------------------------------------+------------------------------+---+----+-------+-------------+-------------+\n|ci40174562|-116.3943333|33.3758333|9.55     |M 0.7 - 14 km N of Borrego Springs, CA|14 km N of Borrego Springs, CA|7  |0.68|ml     |1738195018480|1738195304790|\n+----------+------------+----------+---------+--------------------------------------+------------------------------+---+----+-------+-------------+-------------+\n\n"
          ]
        }
      ],
      "execution_count": 28,
      "metadata": {
        "jupyter": {
          "source_hidden": false,
          "outputs_hidden": false
        },
        "nteract": {
          "transient": {
            "deleting": false
          }
        }
      }
    },
    {
      "cell_type": "code",
      "source": [
        "# Convert 'time' and 'updated' to timestamp from Unix time\n",
        "df = (\n",
        "    df\n",
        "    .withColumn('time', (col('time') / 1000).cast(TimestampType()))\n",
        "    .withColumn('updated', (col('updated') / 1000).cast(TimestampType()))\n",
        ")"
      ],
      "outputs": [
        {
          "output_type": "display_data",
          "data": {
            "application/vnd.livy.statement-meta+json": {
              "spark_pool": "synapseonly",
              "statement_id": 12,
              "statement_ids": [
                12
              ],
              "state": "finished",
              "livy_statement_state": "available",
              "spark_jobs": null,
              "session_id": "1",
              "normalized_state": "finished",
              "queued_time": "2025-01-30T01:18:17.7216977Z",
              "session_start_time": null,
              "execution_start_time": "2025-01-30T01:18:17.8464481Z",
              "execution_finish_time": "2025-01-30T01:18:18.0345664Z",
              "parent_msg_id": "c17d4e3a-8b97-4115-aae1-1e5f0d00c8bf"
            },
            "text/plain": "StatementMeta(synapseonly, 1, 12, Finished, Available, Finished)"
          },
          "metadata": {}
        }
      ],
      "execution_count": 29,
      "metadata": {
        "jupyter": {
          "source_hidden": false,
          "outputs_hidden": false
        },
        "nteract": {
          "transient": {
            "deleting": false
          }
        }
      }
    },
    {
      "cell_type": "code",
      "source": [
        "silver_data=f\"{silver_adls}earthquake_events_silver/\""
      ],
      "outputs": [
        {
          "output_type": "display_data",
          "data": {
            "application/vnd.livy.statement-meta+json": {
              "spark_pool": "synapseonly",
              "statement_id": 14,
              "statement_ids": [
                14
              ],
              "state": "finished",
              "livy_statement_state": "available",
              "spark_jobs": null,
              "session_id": "1",
              "normalized_state": "finished",
              "queued_time": "2025-01-30T01:19:42.5372709Z",
              "session_start_time": null,
              "execution_start_time": "2025-01-30T01:19:42.6464182Z",
              "execution_finish_time": "2025-01-30T01:19:42.8701223Z",
              "parent_msg_id": "b81b5916-5bb5-4d2d-9aac-62c991589c4e"
            },
            "text/plain": "StatementMeta(synapseonly, 1, 14, Finished, Available, Finished)"
          },
          "metadata": {}
        }
      ],
      "execution_count": 31,
      "metadata": {
        "jupyter": {
          "source_hidden": false,
          "outputs_hidden": false
        },
        "nteract": {
          "transient": {
            "deleting": false
          }
        }
      }
    },
    {
      "cell_type": "code",
      "source": [
        "df.write.mode('append').parquet(silver_data)\n",
        "     "
      ],
      "outputs": [
        {
          "output_type": "display_data",
          "data": {
            "application/vnd.livy.statement-meta+json": {
              "spark_pool": "synapseonly",
              "statement_id": 15,
              "statement_ids": [
                15
              ],
              "state": "finished",
              "livy_statement_state": "available",
              "spark_jobs": null,
              "session_id": "1",
              "normalized_state": "finished",
              "queued_time": "2025-01-30T01:19:44.013587Z",
              "session_start_time": null,
              "execution_start_time": "2025-01-30T01:19:44.1150264Z",
              "execution_finish_time": "2025-01-30T01:19:48.1934323Z",
              "parent_msg_id": "4262bb56-7fe4-4ba5-85e6-eecd7c486e91"
            },
            "text/plain": "StatementMeta(synapseonly, 1, 15, Finished, Available, Finished)"
          },
          "metadata": {}
        }
      ],
      "execution_count": 32,
      "metadata": {
        "jupyter": {
          "source_hidden": false,
          "outputs_hidden": false
        },
        "nteract": {
          "transient": {
            "deleting": false
          }
        }
      }
    },
    {
      "cell_type": "code",
      "source": [
        "''' Data Factory\n",
        "dbutils.notebook.exit(silver_output_path)\n",
        "'''"
      ],
      "outputs": [],
      "execution_count": null,
      "metadata": {
        "jupyter": {
          "source_hidden": false,
          "outputs_hidden": false
        },
        "nteract": {
          "transient": {
            "deleting": false
          }
        }
      }
    }
  ],
  "metadata": {
    "language_info": {
      "name": "python"
    },
    "kernelspec": {
      "name": "synapse_pyspark",
      "language": "Python",
      "display_name": "Synapse PySpark"
    },
    "kernel_info": {
      "name": "synapse_pyspark"
    },
    "save_output": true,
    "synapse_widget": {
      "version": "0.1",
      "state": {}
    }
  },
  "nbformat": 4,
  "nbformat_minor": 2
}